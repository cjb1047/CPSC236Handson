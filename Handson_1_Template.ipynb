{
 "cells": [
  {
   "cell_type": "markdown",
   "metadata": {},
   "source": [
    "# Chapter 2 - How to write your first program"
   ]
  },
  {
   "cell_type": "markdown",
   "metadata": {},
   "source": [
    "## 2.1 Student Registration\n",
    "Create a program that allows a student to complete a registration form and displays a completion message that includes the user’s full name and a temporary password.\n",
    "\n",
    "### Console:\n",
    "```powershell\n",
    "Registration Form\n",
    "\n",
    "First Name: Eric\n",
    "Last Name: Idle\n",
    "Birth Year: 1934\n",
    "\n",
    "Welcome Eric Idle!\n",
    "Your registration is complete!\n",
    "Your temporary password is: Eric*1934\n",
    "```\n",
    "\n",
    "### Specifications:\n",
    "- The user’s full name consists of the user’s first name, a space, and the user’s last name.\n",
    "- The temporary password consists of the user’s first name, an asterisk (*), and the user’s birth year.\n",
    "- Assume the user will enter valid data.\n"
   ]
  },
  {
   "cell_type": "code",
   "execution_count": 39,
   "metadata": {},
   "outputs": [
    {
     "name": "stdout",
     "output_type": "stream",
     "text": [
      "Registration Form\n",
      "\n"
     ]
    },
    {
     "name": "stdin",
     "output_type": "stream",
     "text": [
      "First Name:  Eric\n",
      "Last Name:  Idle\n",
      "Birth Year:  1934\n"
     ]
    },
    {
     "name": "stdout",
     "output_type": "stream",
     "text": [
      "\n",
      "Welcome Eric Idle!\n",
      "Your registration is complete!\n",
      "Your temporary password is: Eric*1934\n"
     ]
    }
   ],
   "source": [
    "print(\"Registration Form\\n\")\n",
    "\n",
    "fName = input(\"First Name: \")\n",
    "lName = input(\"Last Name: \")\n",
    "birthYear = input(\"Birth Year: \")\n",
    "\n",
    "print(\"\\nWelcome\", fName, lName, end = \"!\")\n",
    "print(\"\\nYour registration is complete!\")\n",
    "print(\"Your temporary password is: \" + fName + \"*\" + birthYear)\n"
   ]
  },
  {
   "cell_type": "markdown",
   "metadata": {},
   "source": [
    "## 2.2 - Pay Check Calculator\n",
    "Create a program that calculates a user’s weekly gross and take-home pay.\n",
    "\n",
    "### Console\n",
    "```powershell\n",
    "Pay Check Calculator\n",
    "\n",
    "Hours Worked: 35\n",
    "Hourly Pay Rate: 14.50\n",
    "\n",
    "Gross Pay: 507.5\n",
    "Tax Rate: 18%\n",
    "Tax Amount: 91.35\n",
    "Take Home Pay: 416.15\n",
    "```\n",
    "\n",
    "### Specifications:\n",
    "- The formula for calculating gross pay is:\n",
    "`gross pay = hours worked * hourly rate`\n",
    "- The formula for calculating tax amount is:\n",
    "`tax amount = gross pay * (tax rate / 100)`\n",
    "- The formula for calculating take home pay is:\n",
    "`take home pay = gross pay – tax amount`\n",
    "- The tax rate should be 18%, but the program should store the tax rate in a variable so that you can easily change the tax rate later, just by changing the value that’s stored in the variable.\n",
    "- The program should accept decimal entries like 35.5 and 14.25.\n",
    "- Assume the user will enter valid data.\n",
    "- The program should round the results to a maximum of two decimal places.\n"
   ]
  },
  {
   "cell_type": "code",
   "execution_count": 25,
   "metadata": {},
   "outputs": [
    {
     "name": "stdout",
     "output_type": "stream",
     "text": [
      "Pay Check Calculator\n"
     ]
    },
    {
     "name": "stdin",
     "output_type": "stream",
     "text": [
      "\n",
      "Hours Worked:  35\n",
      "Hourly Pay Rate:  14.5\n"
     ]
    },
    {
     "name": "stdout",
     "output_type": "stream",
     "text": [
      "\n",
      "Gross Pay: 507.5\n",
      "Tax Rate: 18%\n",
      "Tax Amount: 91.35\n",
      "Take Home Pay: 416.15\n"
     ]
    }
   ],
   "source": [
    "taxRate = 18\n",
    "\n",
    "print(\"Pay Check Calculator\")\n",
    "\n",
    "hours = float(input(\"\\nHours Worked: \"))\n",
    "payRate = float(input(\"Hourly Pay Rate: \"))\n",
    "\n",
    "grossPay = hours*payRate\n",
    "taxAmount = grossPay*(taxRate/100)\n",
    "takeHome = grossPay-taxAmount\n",
    "\n",
    "print(\"\\nGross Pay:\", grossPay)\n",
    "print(\"Tax Rate:\", str(taxRate) + \"%\")\n",
    "print(\"Tax Amount:\", taxAmount)\n",
    "print(\"Take Home Pay:\", takeHome)"
   ]
  },
  {
   "cell_type": "markdown",
   "metadata": {},
   "source": [
    "## 2.3 - Travel Time Calculator\n",
    "Create a program that calculates the estimated hours and minutes for a trip.\n",
    "\n",
    "### Console\n",
    "```powershell\n",
    "Travel Time Calculator\n",
    "\n",
    "Enter Miles: 200\n",
    "Enter Miles per Hour: 65\n",
    "\n",
    "Estimated Travel Time\n",
    "Hours: 3\n",
    "Minutes: 5\n",
    "```\n",
    "\n",
    "### Specifications\n",
    "- The program should only accept integer entries like 200 and 65.\n",
    "- Assume that the user will enter valid data.\n",
    "\n",
    "### Hint\n",
    "- Use integers with the integer division and modulus operators to get hours and minutes."
   ]
  },
  {
   "cell_type": "code",
   "execution_count": 29,
   "metadata": {},
   "outputs": [
    {
     "name": "stdout",
     "output_type": "stream",
     "text": [
      "Travel Time Calculator\n"
     ]
    },
    {
     "name": "stdin",
     "output_type": "stream",
     "text": [
      "\n",
      "Enter Miles:  200\n",
      "Enter Miles per Hour:  65\n"
     ]
    },
    {
     "name": "stdout",
     "output_type": "stream",
     "text": [
      "\n",
      "Estimated Travel Time\n",
      "Hours: 3\n",
      "Minutes: 5\n"
     ]
    }
   ],
   "source": [
    "print(\"Travel Time Calculator\")\n",
    "\n",
    "miles = float(input(\"\\nEnter Miles: \"))\n",
    "mph = float(input(\"Enter Miles per Hour: \"))\n",
    "\n",
    "hours = int(miles / mph)\n",
    "minutes = int(miles % mph)\n",
    "\n",
    "\n",
    "print(\"\\nEstimated Travel Time\")\n",
    "print(\"Hours:\", hours)\n",
    "print(\"Minutes:\", minutes)\n"
   ]
  },
  {
   "cell_type": "code",
   "execution_count": null,
   "metadata": {},
   "outputs": [],
   "source": []
  }
 ],
 "metadata": {
  "kernelspec": {
   "display_name": "Python [conda env:base] *",
   "language": "python",
   "name": "conda-base-py"
  },
  "language_info": {
   "codemirror_mode": {
    "name": "ipython",
    "version": 3
   },
   "file_extension": ".py",
   "mimetype": "text/x-python",
   "name": "python",
   "nbconvert_exporter": "python",
   "pygments_lexer": "ipython3",
   "version": "3.12.7"
  }
 },
 "nbformat": 4,
 "nbformat_minor": 4
}
