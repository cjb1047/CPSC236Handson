{
 "cells": [
  {
   "cell_type": "markdown",
   "metadata": {},
   "source": [
    "# List and Tuples\n",
    "\n",
    "To submit this assignment in D2l, post the link to your notebook file on your GitHub account."
   ]
  },
  {
   "cell_type": "markdown",
   "metadata": {},
   "source": [
    "## 6.1 Prime Number Checker\n",
    "Create a program that checks whether a number is a prime number and displays its factors if it is not a prime number.\n",
    "\n",
    "### Console:\n",
    "```powershell\n",
    "Prime Number Checker\n",
    "\n",
    "Please enter an integer between 1 and 5000: 5\n",
    "5 is a prime number.\n",
    "\n",
    "Try again? (y/n): y\n",
    "\n",
    "Please enter an integer between 1 and 5000: 6\n",
    "6 is NOT a prime number.\n",
    "It has 4 factors: 1 2 3 6\n",
    "\n",
    "Try again? (y/n): y\n",
    "\n",
    "Please enter an integer between 1 and 5000: 200\n",
    "200 is NOT a prime number.\n",
    "It has 12 factors: 1 2 4 5 8 10 20 25 40 50 100 200\n",
    "\n",
    "Try again? (y/n): n\n",
    "\n",
    "Bye!\n",
    "```\n",
    "\n",
    "### Specifications:\n",
    "- A prime number is divisible by two factors (1 and itself). For example, 7 is a prime number because it is only divisible by 1 and 7.\n",
    "- If the user enters an integer that's not between 1 and 5000, the program should display an error message.\n",
    "- If the number is a prime number, the program should display a message.\n",
    "If the number is not a prime number, the program should display a message. Then, it should display the number of factors for the number and a list of those factors.\n",
    "- Store the factors for each number in a list.\n",
    "- Use functions to organize the code for this program.\n"
   ]
  },
  {
   "cell_type": "code",
   "execution_count": 17,
   "metadata": {},
   "outputs": [
    {
     "name": "stdout",
     "output_type": "stream",
     "text": [
      "Prime Number Checker\n",
      "\n"
     ]
    },
    {
     "name": "stdin",
     "output_type": "stream",
     "text": [
      "Please enter an integer between 1 and 5000:  5\n"
     ]
    },
    {
     "name": "stdout",
     "output_type": "stream",
     "text": [
      "5 is a prime number.\n",
      "\n"
     ]
    },
    {
     "name": "stdin",
     "output_type": "stream",
     "text": [
      "Try again (y/N):  y\n"
     ]
    },
    {
     "name": "stdout",
     "output_type": "stream",
     "text": [
      "\n"
     ]
    },
    {
     "name": "stdin",
     "output_type": "stream",
     "text": [
      "Please enter an integer between 1 and 5000:  6\n"
     ]
    },
    {
     "name": "stdout",
     "output_type": "stream",
     "text": [
      "6 is NOT a prime number.\n",
      "It has 4 factors: [1, 2, 3, 6]\n",
      "\n"
     ]
    },
    {
     "name": "stdin",
     "output_type": "stream",
     "text": [
      "Try again (y/N):  y\n"
     ]
    },
    {
     "name": "stdout",
     "output_type": "stream",
     "text": [
      "\n"
     ]
    },
    {
     "name": "stdin",
     "output_type": "stream",
     "text": [
      "Please enter an integer between 1 and 5000:  200\n"
     ]
    },
    {
     "name": "stdout",
     "output_type": "stream",
     "text": [
      "200 is NOT a prime number.\n",
      "It has 12 factors: [1, 2, 4, 5, 8, 10, 20, 25, 40, 50, 100, 200]\n",
      "\n"
     ]
    },
    {
     "name": "stdin",
     "output_type": "stream",
     "text": [
      "Try again (y/N):  n\n"
     ]
    },
    {
     "name": "stdout",
     "output_type": "stream",
     "text": [
      "\n"
     ]
    }
   ],
   "source": [
    "def validInt(n):\n",
    "    \n",
    "    if n > 1 and n < 5000:\n",
    "        validInt = True\n",
    "    else:\n",
    "        validInt = False\n",
    "\n",
    "    return validInt\n",
    "\n",
    "def factors(n):\n",
    "    \n",
    "    count = 0\n",
    "    prime = False\n",
    "    factorList = []\n",
    "\n",
    "    for i in range(1, n + 1):\n",
    "        if n % i == 0:\n",
    "            count += 1\n",
    "            factorList.append(i)\n",
    "    \n",
    "    if count == 2:\n",
    "        prime = True\n",
    "        return prime, count, factorList\n",
    "    else:\n",
    "        prime == False\n",
    "        return prime, count, factorList\n",
    "\n",
    "def main():\n",
    "\n",
    "    cont = \"y\"\n",
    "    count = 1\n",
    "    factorList = []\n",
    "\n",
    "    print(\"Prime Number Checker\")\n",
    "    print()\n",
    "\n",
    "    \n",
    "    while cont == \"y\" or cont == \"Y\":\n",
    "        valid = False\n",
    "\n",
    "        while valid == False:\n",
    "            n = int(input(\"Please enter an integer between 1 and 5000: \"))\n",
    "            \n",
    "            valid = validInt(n)\n",
    "            \n",
    "            if valid == False:\n",
    "                print(\"Invalid Input!\")\n",
    "                print()\n",
    "\n",
    "            \n",
    "        prime, count, factorList = factors(n)\n",
    "\n",
    "        if prime == True:\n",
    "            print(n, \"is a prime number.\")\n",
    "        else:\n",
    "            print(n, \"is NOT a prime number.\")\n",
    "            print(\"It has\", count, \"factors:\", factorList)\n",
    "\n",
    "        print()\n",
    "        cont = input(\"Try again (y/N): \")\n",
    "        valid = False\n",
    "        print()\n",
    "\n",
    "\n",
    "if __name__ == \"__main__\":\n",
    "    main()"
   ]
  },
  {
   "cell_type": "markdown",
   "metadata": {},
   "source": [
    "## 6.2 - Contact Manager\n",
    "Create a program that a user can use to manage the primary email address and phone number for a contact.\n",
    "\n",
    "### Console\n",
    "```powershell\n",
    "Contact Manager\n",
    "\n",
    "COMMAND MENU\n",
    "list - Display all contacts\n",
    "view - View a contact\n",
    "add - Add a contact\n",
    "del - Delete a contact\n",
    "exit - Exit program\n",
    "\n",
    "Command: list\n",
    "1. Guido van Rossum\n",
    "2. Eric Idle\n",
    "\n",
    "Command: view\n",
    "Number: 2\n",
    "Name: Eric Idle\n",
    "Email: eric@ericidle.com\n",
    "Phone: +44 20 7946 0958\n",
    "\n",
    "Command: add\n",
    "Name: Mike Murach\n",
    "Email: mike@murach.com\n",
    "Phone: 559-123-4567\n",
    "Mike Murach was added.\n",
    "\n",
    "Command: del\n",
    "Number: 1\n",
    "Guido van Rossum was deleted.\n",
    "\n",
    "Command: list\n",
    "1. Eric Idle\n",
    "2. Mike Murach\n",
    "\n",
    "Command: exit\n",
    "Bye!\n",
    "```\n",
    "\n",
    "### Specifications:\n",
    "- Use a list of lists to store the data for the contacts. Provide starting data for two or more contacts.\n",
    "- For the `view` and `del` commands, display an error message if the user enters and invalid contact number.\n",
    "- When you exit the program, all changes that you made to the contact list are lost.\n",
    "\n",
    "\n"
   ]
  },
  {
   "cell_type": "code",
   "execution_count": null,
   "metadata": {},
   "outputs": [
    {
     "name": "stdout",
     "output_type": "stream",
     "text": [
      "Contact Manager\n",
      "\n",
      "COMMAND MENU\n",
      "list - display all contacts\n",
      "view - view a contact\n",
      "add - add a contact\n",
      "del - delete a contact\n",
      "exit - exit program\n",
      "\n"
     ]
    },
    {
     "name": "stdin",
     "output_type": "stream",
     "text": [
      "Command:  list\n"
     ]
    },
    {
     "name": "stdout",
     "output_type": "stream",
     "text": [
      "\n",
      "1 . Guido van Rossum\n",
      "2 . Eric Idle\n",
      "\n"
     ]
    },
    {
     "name": "stdin",
     "output_type": "stream",
     "text": [
      "Command:  view\n",
      "Number:  2\n"
     ]
    },
    {
     "name": "stdout",
     "output_type": "stream",
     "text": [
      "\n",
      "Name: Eric Idle\n",
      "Email: eric@ericidle.com\n",
      "Phone: +44 20 7946 0958\n"
     ]
    },
    {
     "name": "stdin",
     "output_type": "stream",
     "text": [
      "Command:  add\n"
     ]
    },
    {
     "name": "stdout",
     "output_type": "stream",
     "text": [
      "\n"
     ]
    },
    {
     "name": "stdin",
     "output_type": "stream",
     "text": [
      "Name:  James Cordon\n",
      "Email:  jc@jc.com\n",
      "Phone:  433-433-4333\n"
     ]
    },
    {
     "name": "stdout",
     "output_type": "stream",
     "text": [
      "James Cordon has been added.\n"
     ]
    },
    {
     "name": "stdin",
     "output_type": "stream",
     "text": [
      "Command:  list\n"
     ]
    },
    {
     "name": "stdout",
     "output_type": "stream",
     "text": [
      "\n",
      "1 . Guido van Rossum\n",
      "2 . Eric Idle\n",
      "3 . James Cordon\n",
      "\n"
     ]
    },
    {
     "name": "stdin",
     "output_type": "stream",
     "text": [
      "Command:  view\n",
      "Number:  3\n"
     ]
    },
    {
     "name": "stdout",
     "output_type": "stream",
     "text": [
      "\n",
      "Name: James Cordon\n",
      "Email: jc@jc.com\n",
      "Phone: 433-433-4333\n"
     ]
    },
    {
     "name": "stdin",
     "output_type": "stream",
     "text": [
      "Command:  view\n",
      "Number:  2\n"
     ]
    },
    {
     "name": "stdout",
     "output_type": "stream",
     "text": [
      "\n",
      "Name: Eric Idle\n",
      "Email: eric@ericidle.com\n",
      "Phone: +44 20 7946 0958\n"
     ]
    }
   ],
   "source": [
    "def menu():\n",
    "\n",
    "    print()\n",
    "    print(\"COMMAND MENU\")\n",
    "    print(\"list - display all contacts\")\n",
    "    print(\"view - view a contact\")\n",
    "    print(\"add - add a contact\")\n",
    "    print(\"del - delete a contact\")\n",
    "    print(\"exit - exit program\")\n",
    "    print()\n",
    "\n",
    "\n",
    "def ls(contacts):\n",
    "    print()\n",
    "    \n",
    "    for person in contacts:\n",
    "        i = contacts.index(person)\n",
    "        print(i + 1, \".\", contacts[i][0])\n",
    "        \n",
    "    print()\n",
    "\n",
    "\n",
    "def view(i, contacts):\n",
    "    print()\n",
    "    print(\"Name:\", contacts[i-1][0])\n",
    "    print(\"Email:\", contacts[i-1][1])\n",
    "    print(\"Phone:\", contacts[i-1][2])\n",
    "    print()\n",
    "\n",
    "\n",
    "def add(contacts):\n",
    "    print()\n",
    "\n",
    "    name = input(\"Name: \")\n",
    "    email = input(\"Email: \")\n",
    "    phone = input(\"Phone: \")\n",
    "\n",
    "    contacts.append([name, email, phone])\n",
    "\n",
    "    print(name, \"has been added.\")\n",
    "\n",
    "\n",
    "def delete(i, contacts):\n",
    "    print()\n",
    "\n",
    "    print(contacts[i-1][0], \"was deleted.\")\n",
    "    contacts.pop(i-1)\n",
    "    print()\n",
    "\n",
    "def main():\n",
    "\n",
    "    command = \"start\"\n",
    "    contacts = [[\"Guido van Rossum\", \"guido@vanrossum.com\", \"643-432-8893\"], [\"Eric Idle\", \"eric@ericidle.com\", \"+44 20 7946 0958\"]]\n",
    "\n",
    "    print(\"Contact Manager\")\n",
    "    menu()\n",
    "\n",
    "    while command != \"exit\":\n",
    "        \n",
    "        command = input(\"Command: \")\n",
    "    \n",
    "        if command == \"list\":\n",
    "            \n",
    "            ls(contacts)\n",
    "            \n",
    "        elif command == \"view\":\n",
    "           \n",
    "            number = int(input(\"Number: \"))\n",
    "            view(number, contacts)\n",
    "        \n",
    "        elif command == \"add\":\n",
    "    \n",
    "            add(contacts)\n",
    "\n",
    "        elif command == \"del\":\n",
    "\n",
    "            number = int(input(\"Number: \"))\n",
    "            delete(number, contacts)\n",
    "\n",
    "            \n",
    "if __name__ == \"__main__\":\n",
    "    main() "
   ]
  },
  {
   "cell_type": "code",
   "execution_count": null,
   "metadata": {},
   "outputs": [],
   "source": []
  }
 ],
 "metadata": {
  "kernelspec": {
   "display_name": "Python [conda env:base] *",
   "language": "python",
   "name": "conda-base-py"
  },
  "language_info": {
   "codemirror_mode": {
    "name": "ipython",
    "version": 3
   },
   "file_extension": ".py",
   "mimetype": "text/x-python",
   "name": "python",
   "nbconvert_exporter": "python",
   "pygments_lexer": "ipython3",
   "version": "3.12.7"
  }
 },
 "nbformat": 4,
 "nbformat_minor": 4
}
